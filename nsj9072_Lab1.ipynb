{
  "cells": [
    {
      "cell_type": "markdown",
      "source": [
        "# Lab 1: Adversarial Attacks and Defenses\n",
        "\n",
        "##Name: Navya Sravani Jammalamadaka\n",
        "##Net Id: nsj9072\n",
        "##N Number: N19774260"
      ],
      "metadata": {
        "id": "_0yG47iszVEE"
      }
    },
    {
      "cell_type": "markdown",
      "metadata": {
        "id": "nnrWf3PCEzXL"
      },
      "source": [
        "## Set up TensorFlow\n",
        "\n",
        "Import TensorFlow into your program to get started:"
      ]
    },
    {
      "cell_type": "code",
      "execution_count": 2,
      "metadata": {
        "id": "0trJmd6DjqBZ",
        "outputId": "67231d62-a6a3-405f-96be-ba4c97cbfa2f",
        "colab": {
          "base_uri": "https://localhost:8080/"
        }
      },
      "outputs": [
        {
          "output_type": "stream",
          "name": "stdout",
          "text": [
            "TensorFlow version: 2.9.2\n"
          ]
        }
      ],
      "source": [
        "import tensorflow as tf\n",
        "print(\"TensorFlow version:\", tf.__version__)"
      ]
    },
    {
      "cell_type": "code",
      "execution_count": 3,
      "metadata": {
        "id": "7FP5258xjs-v",
        "colab": {
          "base_uri": "https://localhost:8080/"
        },
        "outputId": "133a0bd4-a7c1-43c6-ae58-d3429072a108"
      },
      "outputs": [
        {
          "output_type": "stream",
          "name": "stdout",
          "text": [
            "Downloading data from https://storage.googleapis.com/tensorflow/tf-keras-datasets/train-labels-idx1-ubyte.gz\n",
            "29515/29515 [==============================] - 0s 0us/step\n",
            "Downloading data from https://storage.googleapis.com/tensorflow/tf-keras-datasets/train-images-idx3-ubyte.gz\n",
            "26421880/26421880 [==============================] - 1s 0us/step\n",
            "Downloading data from https://storage.googleapis.com/tensorflow/tf-keras-datasets/t10k-labels-idx1-ubyte.gz\n",
            "5148/5148 [==============================] - 0s 0us/step\n",
            "Downloading data from https://storage.googleapis.com/tensorflow/tf-keras-datasets/t10k-images-idx3-ubyte.gz\n",
            "4422102/4422102 [==============================] - 0s 0us/step\n"
          ]
        }
      ],
      "source": [
        "fashion_mnist = tf.keras.datasets.fashion_mnist\n",
        "\n",
        "(x_train, y_train), (x_test, y_test) = fashion_mnist.load_data()\n",
        "x_train, x_test = x_train / 255.0, x_test / 255.0"
      ]
    },
    {
      "cell_type": "markdown",
      "metadata": {
        "id": "BPZ68wASog_I"
      },
      "source": [
        "## Build a DNN model\n",
        "\n",
        "Build a `tf.keras.Sequential` model by stacking layers. \n",
        "Making the model with 300 layers and relu activation function with 0.2 Dropout"
      ]
    },
    {
      "cell_type": "code",
      "execution_count": 4,
      "metadata": {
        "id": "h3IKyzTCDNGo"
      },
      "outputs": [],
      "source": [
        "model = tf.keras.models.Sequential([\n",
        "  tf.keras.layers.Flatten(input_shape=(28, 28)),\n",
        "  tf.keras.layers.Dense(300, activation='relu'),\n",
        "  tf.keras.layers.Dropout(0.2),\n",
        "  tf.keras.layers.Dense(10)\n",
        "])"
      ]
    },
    {
      "cell_type": "code",
      "source": [
        "model.summary()"
      ],
      "metadata": {
        "id": "eGOJ5vVS4TfC",
        "outputId": "78036a3d-8044-49f5-986d-cd2debf78b43",
        "colab": {
          "base_uri": "https://localhost:8080/"
        }
      },
      "execution_count": 5,
      "outputs": [
        {
          "output_type": "stream",
          "name": "stdout",
          "text": [
            "Model: \"sequential\"\n",
            "_________________________________________________________________\n",
            " Layer (type)                Output Shape              Param #   \n",
            "=================================================================\n",
            " flatten (Flatten)           (None, 784)               0         \n",
            "                                                                 \n",
            " dense (Dense)               (None, 300)               235500    \n",
            "                                                                 \n",
            " dropout (Dropout)           (None, 300)               0         \n",
            "                                                                 \n",
            " dense_1 (Dense)             (None, 10)                3010      \n",
            "                                                                 \n",
            "=================================================================\n",
            "Total params: 238,510\n",
            "Trainable params: 238,510\n",
            "Non-trainable params: 0\n",
            "_________________________________________________________________\n"
          ]
        }
      ]
    },
    {
      "cell_type": "code",
      "execution_count": 6,
      "metadata": {
        "id": "OeOrNdnkEEcR",
        "outputId": "42cc5ca9-9099-4753-a01b-bed7010ec816",
        "colab": {
          "base_uri": "https://localhost:8080/"
        }
      },
      "outputs": [
        {
          "output_type": "execute_result",
          "data": {
            "text/plain": [
              "array([[-0.4464175 ,  0.6023062 , -0.19293877, -0.08046769, -0.70629543,\n",
              "        -0.2485274 , -0.3731537 ,  0.03429224, -0.4163219 , -0.14029677]],\n",
              "      dtype=float32)"
            ]
          },
          "metadata": {},
          "execution_count": 6
        }
      ],
      "source": [
        "predictions = model(x_train[:1]).numpy()\n",
        "predictions"
      ]
    },
    {
      "cell_type": "markdown",
      "metadata": {
        "id": "tgjhDQGcIniO"
      },
      "source": [
        "The `tf.nn.softmax` function converts these logits to *probabilities* for each class: "
      ]
    },
    {
      "cell_type": "code",
      "execution_count": 7,
      "metadata": {
        "id": "zWSRnQ0WI5eq",
        "outputId": "119400e1-aaf2-4cfd-d26f-dd0a981b7b47",
        "colab": {
          "base_uri": "https://localhost:8080/"
        }
      },
      "outputs": [
        {
          "output_type": "execute_result",
          "data": {
            "text/plain": [
              "array([[0.07322627, 0.20898825, 0.09435206, 0.10558371, 0.05646813,\n",
              "        0.08925027, 0.07879253, 0.11842313, 0.07546356, 0.099452  ]],\n",
              "      dtype=float32)"
            ]
          },
          "metadata": {},
          "execution_count": 7
        }
      ],
      "source": [
        "tf.nn.softmax(predictions).numpy()"
      ]
    },
    {
      "cell_type": "markdown",
      "metadata": {
        "id": "hQyugpgRIyrA"
      },
      "source": [
        "Define a loss function for training using `losses.SparseCategoricalCrossentropy`, which takes a vector of logits and a `True` index and returns a scalar loss for each example."
      ]
    },
    {
      "cell_type": "code",
      "execution_count": 8,
      "metadata": {
        "id": "RSkzdv8MD0tT"
      },
      "outputs": [],
      "source": [
        "loss_fn = tf.keras.losses.SparseCategoricalCrossentropy(from_logits=True)"
      ]
    },
    {
      "cell_type": "markdown",
      "metadata": {
        "id": "SfR4MsSDU880"
      },
      "source": [
        "This loss is equal to the negative log probability of the true class: The loss is zero if the model is sure of the correct class.\n",
        "\n"
      ]
    },
    {
      "cell_type": "code",
      "execution_count": 9,
      "metadata": {
        "id": "NJWqEVrrJ7ZB",
        "outputId": "dfdd0146-504f-47db-b110-2deb253b88e1",
        "colab": {
          "base_uri": "https://localhost:8080/"
        }
      },
      "outputs": [
        {
          "output_type": "execute_result",
          "data": {
            "text/plain": [
              "2.3080802"
            ]
          },
          "metadata": {},
          "execution_count": 9
        }
      ],
      "source": [
        "loss_fn(y_train[:1], predictions).numpy()"
      ]
    },
    {
      "cell_type": "markdown",
      "metadata": {
        "id": "ada44eb947d4"
      },
      "source": [
        "Before training, configure and compile the model using Keras `Model.compile`. Set the [`optimizer`](https://www.tensorflow.org/api_docs/python/tf/keras/optimizers) class to `adam`, set the `loss` to the `loss_fn` function you defined earlier, and specify a metric to be evaluated for the model by setting the `metrics` parameter to `accuracy`."
      ]
    },
    {
      "cell_type": "code",
      "execution_count": 10,
      "metadata": {
        "id": "9foNKHzTD2Vo"
      },
      "outputs": [],
      "source": [
        "model.compile(optimizer='adam',\n",
        "              loss=loss_fn,\n",
        "              metrics=['accuracy'])"
      ]
    },
    {
      "cell_type": "markdown",
      "metadata": {
        "id": "ix4mEL65on-w"
      },
      "source": [
        "## Train and evaluate your model\n",
        "\n",
        "Use the `Model.fit` method to adjust your model parameters and minimize the loss: "
      ]
    },
    {
      "cell_type": "code",
      "execution_count": 11,
      "metadata": {
        "id": "y7suUbJXVLqP",
        "outputId": "3df413b1-8213-47b3-8690-b8456a3018be",
        "colab": {
          "base_uri": "https://localhost:8080/"
        }
      },
      "outputs": [
        {
          "output_type": "stream",
          "name": "stdout",
          "text": [
            "Epoch 1/5\n",
            "1875/1875 [==============================] - 10s 5ms/step - loss: 0.5065 - accuracy: 0.8207\n",
            "Epoch 2/5\n",
            "1875/1875 [==============================] - 9s 5ms/step - loss: 0.3838 - accuracy: 0.8592\n",
            "Epoch 3/5\n",
            "1875/1875 [==============================] - 8s 4ms/step - loss: 0.3517 - accuracy: 0.8713\n",
            "Epoch 4/5\n",
            "1875/1875 [==============================] - 8s 4ms/step - loss: 0.3301 - accuracy: 0.8785\n",
            "Epoch 5/5\n",
            "1875/1875 [==============================] - 8s 4ms/step - loss: 0.3163 - accuracy: 0.8828\n"
          ]
        },
        {
          "output_type": "execute_result",
          "data": {
            "text/plain": [
              "<keras.callbacks.History at 0x7fde184536d0>"
            ]
          },
          "metadata": {},
          "execution_count": 11
        }
      ],
      "source": [
        "model.fit(x_train, y_train, epochs=5)"
      ]
    },
    {
      "cell_type": "markdown",
      "metadata": {
        "id": "4mDAAPFqVVgn"
      },
      "source": [
        "The `Model.evaluate` method checks the models performance, usually on a \"[Validation-set](https://developers.google.com/machine-learning/glossary#validation-set)\" or \"[Test-set](https://developers.google.com/machine-learning/glossary#test-set)\"."
      ]
    },
    {
      "cell_type": "code",
      "execution_count": 12,
      "metadata": {
        "id": "F7dTAzgHDUh7",
        "outputId": "7a6cba6f-a018-42e2-8dbe-c8b8d7c2df8f",
        "colab": {
          "base_uri": "https://localhost:8080/"
        }
      },
      "outputs": [
        {
          "output_type": "stream",
          "name": "stdout",
          "text": [
            "313/313 - 1s - loss: 0.3528 - accuracy: 0.8749 - 970ms/epoch - 3ms/step\n"
          ]
        },
        {
          "output_type": "execute_result",
          "data": {
            "text/plain": [
              "[0.3527950048446655, 0.8748999834060669]"
            ]
          },
          "metadata": {},
          "execution_count": 12
        }
      ],
      "source": [
        "model.evaluate(x_test,  y_test, verbose=2)"
      ]
    },
    {
      "cell_type": "markdown",
      "metadata": {
        "id": "T4JfEh7kvx6m"
      },
      "source": [
        "The image classifier is now trained to ~87% accuracy on the fashion_mnist dataset."
      ]
    },
    {
      "cell_type": "markdown",
      "source": [
        "Building the initial signed gradient\n"
      ],
      "metadata": {
        "id": "0w9yYRYD5tr7"
      }
    },
    {
      "cell_type": "code",
      "source": [
        "image_tensor = tf.convert_to_tensor(x_test,dtype=tf.float32)\n",
        "with tf.GradientTape() as tape:\n",
        "    tape.watch(image_tensor)\n",
        "    output = model(image_tensor)\n",
        "    loss = loss_fn(y_test, output)\n",
        "gradient = tape.gradient(loss, image_tensor)\n",
        "signed_grad = tf.sign(gradient)"
      ],
      "metadata": {
        "id": "Cp7xZnqP5wxp"
      },
      "execution_count": 13,
      "outputs": []
    },
    {
      "cell_type": "markdown",
      "source": [
        "# Conducting Untargeted FGSM Attacks\n",
        "\n"
      ],
      "metadata": {
        "id": "_xVEypnc6IrQ"
      }
    },
    {
      "cell_type": "code",
      "source": [
        "import numpy as np\n",
        "import matplotlib.pyplot as plt"
      ],
      "metadata": {
        "id": "GLG0n9PI6u_U"
      },
      "execution_count": 14,
      "outputs": []
    },
    {
      "cell_type": "markdown",
      "source": [
        "Initial accuracy over clean images"
      ],
      "metadata": {
        "id": "I128bxzXAhes"
      }
    },
    {
      "cell_type": "code",
      "source": [
        "accuracyofmodel = np.argmax(model.predict(x_test), axis=-1)\n",
        "accuracyrate = 0\n",
        "\n",
        "for i in range(len(accuracyofmodel)):\n",
        "  if accuracyofmodel[i] == y_test[i]:\n",
        "    accuracyrate = accuracyrate+1\n",
        "  else:\n",
        "    accuracyrate = accuracyrate+0\n",
        "accuracyrate = accuracyrate/10000\n",
        "print(accuracyrate)"
      ],
      "metadata": {
        "id": "MRfufNEo6MBG",
        "outputId": "4f8b86a7-1f3b-455d-d117-b48250de63c1",
        "colab": {
          "base_uri": "https://localhost:8080/"
        }
      },
      "execution_count": 15,
      "outputs": [
        {
          "output_type": "stream",
          "name": "stdout",
          "text": [
            "313/313 [==============================] - 1s 2ms/step\n",
            "0.8749\n"
          ]
        }
      ]
    },
    {
      "cell_type": "code",
      "metadata": {
        "id": "txhnePJZT7yO",
        "colab": {
          "base_uri": "https://localhost:8080/",
          "height": 1000
        },
        "outputId": "0b00871d-1b86-4590-d0c0-e3aecfc4cf6e"
      },
      "source": [
        "epsilon = [25,50,75,125]\n",
        "new_epsilon = [0,0,0,0]\n",
        "#Dividing each epsilon over 255\n",
        "for j in range(len(epsilon)):\n",
        "  new_epsilon[j] = epsilon[j]/255\n",
        "\n",
        "accuracyuntargeted = np.zeros(shape=(len(epsilon)))\n",
        "adversarial_array = x_test\n",
        "adversarial_arrayLabel = y_test\n",
        "adversarial_arrayLabel = adversarial_arrayLabel.copy()\n",
        "\n",
        "\n",
        "for i in range(len(epsilon)):\n",
        "  accuracy = 0\n",
        "  print(new_epsilon[i])\n",
        "  for k in range(len(x_test)):\n",
        "    image = x_test[k]  \n",
        "\n",
        "    #Using formula from the slides to run untargeted attack\n",
        "    adversarial_array[k] = image + signed_grad[k]*new_epsilon[i]\n",
        "    adversarial_array[k] = tf.clip_by_value(adversarial_array[k], 0, 1)\n",
        "    adversarial_arrayLabel[k] = y_test[k]\n",
        "\n",
        "  #Finding the sucessrate of the attack over the model\n",
        "  model.evaluate(adversarial_array,  adversarial_arrayLabel, verbose=2)\n",
        " \n",
        "  #Building the prediction matrix\n",
        "  untargeted_predictions = np.argmax(model.predict(adversarial_array), axis=-1)\n",
        "  for l in range(len(y_test)):\n",
        "    if untargeted_predictions[l] == adversarial_arrayLabel[l]:\n",
        "      #Counting the number of correctly predicted images despite the attack\n",
        "      accuracy = accuracy+1\n",
        "    else:\n",
        "      accuracy = accuracy+0\n",
        "  testacc = accuracy/10000\n",
        "  \n",
        "  #Calculating the success rate of the attack by finding the number of images correctly classified before the attack v/s after te attack\n",
        "  attackacc = 1 - testacc/accuracyrate\n",
        "  plt.imshow(adversarial_array[0])\n",
        "  plt.show()\n",
        "  accuracyuntargeted[i] = attackacc*100\n",
        "  print(\"epsilon,accuracy\",new_epsilon[i],attackacc)\n",
        "\n",
        "print(accuracyuntargeted)"
      ],
      "execution_count": 16,
      "outputs": [
        {
          "output_type": "stream",
          "name": "stdout",
          "text": [
            "0.09803921568627451\n",
            "313/313 - 1s - loss: 3.7699 - accuracy: 0.1493 - 608ms/epoch - 2ms/step\n",
            "313/313 [==============================] - 1s 2ms/step\n"
          ]
        },
        {
          "output_type": "display_data",
          "data": {
            "text/plain": [
              "<Figure size 432x288 with 1 Axes>"
            ],
            "image/png": "[encoded data removed]"
          },
          "metadata": {
            "needs_background": "light"
          }
        },
        {
          "output_type": "stream",
          "name": "stdout",
          "text": [
            "epsilon,accuracy 0.09803921568627451 0.8293519259343926\n",
            "0.19607843137254902\n",
            "313/313 - 1s - loss: 12.0182 - accuracy: 0.0065 - 657ms/epoch - 2ms/step\n",
            "313/313 [==============================] - 1s 2ms/step\n"
          ]
        },
        {
          "output_type": "display_data",
          "data": {
            "text/plain": [
              "<Figure size 432x288 with 1 Axes>"
            ],
            "image/png": "[encoded data removed]"
          },
          "metadata": {
            "needs_background": "light"
          }
        },
        {
          "output_type": "stream",
          "name": "stdout",
          "text": [
            "epsilon,accuracy 0.19607843137254902 0.9925705794947994\n",
            "0.29411764705882354\n",
            "313/313 - 1s - loss: 25.2004 - accuracy: 0.0024 - 614ms/epoch - 2ms/step\n",
            "313/313 [==============================] - 1s 2ms/step\n"
          ]
        },
        {
          "output_type": "display_data",
          "data": {
            "text/plain": [
              "<Figure size 432x288 with 1 Axes>"
            ],
            "image/png": "[encoded data removed]"
          },
          "metadata": {
            "needs_background": "light"
          }
        },
        {
          "output_type": "stream",
          "name": "stdout",
          "text": [
            "epsilon,accuracy 0.29411764705882354 0.9972568293519259\n",
            "0.49019607843137253\n",
            "313/313 - 1s - loss: 42.1266 - accuracy: 0.0021 - 639ms/epoch - 2ms/step\n",
            "313/313 [==============================] - 1s 2ms/step\n"
          ]
        },
        {
          "output_type": "display_data",
          "data": {
            "text/plain": [
              "<Figure size 432x288 with 1 Axes>"
            ],
            "image/png": "[encoded data removed]"
          },
          "metadata": {
            "needs_background": "light"
          }
        },
        {
          "output_type": "stream",
          "name": "stdout",
          "text": [
            "epsilon,accuracy 0.49019607843137253 0.9975997256829352\n",
            "[82.93519259 99.25705795 99.72568294 99.75997257]\n"
          ]
        }
      ]
    },
    {
      "cell_type": "markdown",
      "source": [
        "# Conducting Targeted FGSM attacks"
      ],
      "metadata": {
        "id": "1LBxZBQPBZ01"
      }
    },
    {
      "cell_type": "markdown",
      "source": [
        "Redefining x_test to ensure only clean images are used"
      ],
      "metadata": {
        "id": "8EFOJm--B65C"
      }
    },
    {
      "cell_type": "code",
      "source": [
        "fashion_mnist = tf.keras.datasets.fashion_mnist\n",
        "\n",
        "(x_train, y_train), (x_test, y_test) = fashion_mnist.load_data()\n",
        "x_train, x_test = x_train / 255.0, x_test / 255.0"
      ],
      "metadata": {
        "id": "Fw2ceb89Bcx4"
      },
      "execution_count": 17,
      "outputs": []
    },
    {
      "cell_type": "markdown",
      "metadata": {
        "id": "hBdA5PRmy-Bg"
      },
      "source": [
        "Building the matrix for target classes"
      ]
    },
    {
      "cell_type": "code",
      "metadata": {
        "id": "_zbASMqDi0UI"
      },
      "source": [
        "targetclasses = np.zeros(shape=len(y_test))\n",
        "for i in range(len(y_test)):\n",
        "  targetclasses[i] = (y_test[i]+1)%10\n",
        " \n"
      ],
      "execution_count": 18,
      "outputs": []
    },
    {
      "cell_type": "markdown",
      "source": [
        "Calculating the gradient with respect to target classes"
      ],
      "metadata": {
        "id": "8tDGCdbYCZx-"
      }
    },
    {
      "cell_type": "code",
      "metadata": {
        "id": "g2A7dsmEg6e1"
      },
      "source": [
        "image_tensor2 = tf.convert_to_tensor(x_test,dtype=tf.float32)\n",
        "with tf.GradientTape() as tape:\n",
        "    tape.watch(image_tensor2)\n",
        "    output2 = model(image_tensor2)\n",
        "    loss2 = loss_fn(targetclasses, output2)\n",
        "gradient2 = tape.gradient(loss2, image_tensor2)\n",
        "signed_grad2 = tf.sign(gradient2)"
      ],
      "execution_count": 19,
      "outputs": []
    },
    {
      "cell_type": "markdown",
      "metadata": {
        "id": "c4fHVX8ht-ni"
      },
      "source": [
        "Running the targeted attack which is a modified version of the untargeted attack.\n",
        "\n"
      ]
    },
    {
      "cell_type": "code",
      "metadata": {
        "id": "BJ6M0SVOevvI",
        "colab": {
          "base_uri": "https://localhost:8080/",
          "height": 1000
        },
        "outputId": "1d40a8ca-570a-4d1f-d640-5a3cbe975b47"
      },
      "source": [
        "accuracytargeted = np.zeros(shape=(len(epsilon)))\n",
        "adversarial_arraytarget = x_test\n",
        "targetLabel = y_test\n",
        "targetLabel=targetLabel.copy()\n",
        "for i in range(len(epsilon)):\n",
        "  accuracy = 0\n",
        "  print(new_epsilon[i])\n",
        "  for k in range(len(x_test)):\n",
        "    image = x_test[k]  \n",
        "\n",
        "    #Using formula from the slides to caonduct the targeted fgsm attack \n",
        "    adversarial_arraytarget[k] = image - signed_grad2[k]*new_epsilon[i]\n",
        "    adversarial_arraytarget[k] = tf.clip_by_value(adversarial_arraytarget[k], 0, 1)\n",
        "    targetLabel[k]=y_test[k]\n",
        "\n",
        "  model.evaluate(adversarial_arraytarget,  targetLabel, verbose=2)\n",
        "  targeted_predictions = np.argmax(model.predict(adversarial_arraytarget), axis=-1)\n",
        "  \n",
        "  for l in range(len(y_test)):\n",
        "    if targeted_predictions[l] == targetLabel[l]:\n",
        "      accuracy = accuracy+1\n",
        "    else:\n",
        "      accuracy = accuracy+0\n",
        "  testacc = accuracy/10000\n",
        "  attackacc = 1 - testacc/accuracyrate\n",
        "  print(\"Prediction of Sample:\",targeted_predictions[0],\"Correct Label of Sample:\",targetLabel[0])\n",
        "  plt.imshow(adversarial_arraytarget[0])\n",
        "  plt.show()\n",
        "  accuracytargeted[i] = attackacc*100\n",
        "  print(\"epsilon,accuracy\",new_epsilon[i],attackacc)\n",
        "\n",
        "print(accuracytargeted)"
      ],
      "execution_count": 20,
      "outputs": [
        {
          "output_type": "stream",
          "name": "stdout",
          "text": [
            "0.09803921568627451\n",
            "313/313 - 1s - loss: 2.1942 - accuracy: 0.3010 - 609ms/epoch - 2ms/step\n",
            "313/313 [==============================] - 1s 2ms/step\n",
            "Prediction of Sample: 6 Correct Label of Sample: 9\n"
          ]
        },
        {
          "output_type": "display_data",
          "data": {
            "text/plain": [
              "<Figure size 432x288 with 1 Axes>"
            ],
            "image/png": "[encoded data removed]"
          },
          "metadata": {
            "needs_background": "light"
          }
        },
        {
          "output_type": "stream",
          "name": "stdout",
          "text": [
            "epsilon,accuracy 0.09803921568627451 0.6559606812207109\n",
            "0.19607843137254902\n",
            "313/313 - 1s - loss: 9.1450 - accuracy: 0.0135 - 621ms/epoch - 2ms/step\n",
            "313/313 [==============================] - 1s 2ms/step\n",
            "Prediction of Sample: 6 Correct Label of Sample: 9\n"
          ]
        },
        {
          "output_type": "display_data",
          "data": {
            "text/plain": [
              "<Figure size 432x288 with 1 Axes>"
            ],
            "image/png": "[encoded data removed]"
          },
          "metadata": {
            "needs_background": "light"
          }
        },
        {
          "output_type": "stream",
          "name": "stdout",
          "text": [
            "epsilon,accuracy 0.19607843137254902 0.9845696651045834\n",
            "0.29411764705882354\n",
            "313/313 - 1s - loss: 22.7338 - accuracy: 0.0023 - 622ms/epoch - 2ms/step\n",
            "313/313 [==============================] - 1s 2ms/step\n",
            "Prediction of Sample: 6 Correct Label of Sample: 9\n"
          ]
        },
        {
          "output_type": "display_data",
          "data": {
            "text/plain": [
              "<Figure size 432x288 with 1 Axes>"
            ],
            "image/png": "[encoded data removed]"
          },
          "metadata": {
            "needs_background": "light"
          }
        },
        {
          "output_type": "stream",
          "name": "stdout",
          "text": [
            "epsilon,accuracy 0.29411764705882354 0.997371128128929\n",
            "0.49019607843137253\n",
            "313/313 - 1s - loss: 42.9869 - accuracy: 0.0017 - 587ms/epoch - 2ms/step\n",
            "313/313 [==============================] - 1s 2ms/step\n",
            "Prediction of Sample: 6 Correct Label of Sample: 9\n"
          ]
        },
        {
          "output_type": "display_data",
          "data": {
            "text/plain": [
              "<Figure size 432x288 with 1 Axes>"
            ],
            "image/png": "[encoded data removed]"
          },
          "metadata": {
            "needs_background": "light"
          }
        },
        {
          "output_type": "stream",
          "name": "stdout",
          "text": [
            "epsilon,accuracy 0.49019607843137253 0.9980569207909475\n",
            "[65.59606812 98.45696651 99.73711281 99.80569208]\n"
          ]
        }
      ]
    },
    {
      "cell_type": "markdown",
      "metadata": {
        "id": "OZULamtTmbvk"
      },
      "source": [
        "Visualizing and Tabulating Accuracies of targeted and untargeted attacks over epsilon"
      ]
    },
    {
      "cell_type": "code",
      "metadata": {
        "id": "ihf5B7sEgiR6",
        "colab": {
          "base_uri": "https://localhost:8080/",
          "height": 295
        },
        "outputId": "f45a521d-36ff-414e-e2c8-bf15c5c7e03a"
      },
      "source": [
        "plt.plot(new_epsilon, accuracyuntargeted, label = \"Untargeted FGSM\")\n",
        "plt.plot(new_epsilon, accuracytargeted, label = \"Targeted FGSM\")\n",
        "plt.xlabel('Epsilon')\n",
        "plt.ylabel('Accuracy')\n",
        "plt.title('Success Rate of Attacks over Epsilon ')\n",
        "plt.legend()\n",
        "plt.show() "
      ],
      "execution_count": 21,
      "outputs": [
        {
          "output_type": "display_data",
          "data": {
            "text/plain": [
              "<Figure size 432x288 with 1 Axes>"
            ],
            "image/png": "[encoded data removed]"
          },
          "metadata": {
            "needs_background": "light"
          }
        }
      ]
    },
    {
      "cell_type": "code",
      "metadata": {
        "id": "jpCMfhbR0QnK",
        "colab": {
          "base_uri": "https://localhost:8080/"
        },
        "outputId": "fc572edd-4945-4cc4-a508-e129a1fc5e2c"
      },
      "source": [
        "from astropy.table import QTable, Table, Column\n",
        "from astropy import units as u\n",
        "t = Table()\n",
        "t = Table([new_epsilon, accuracyuntargeted, accuracytargeted], names=('Epsilon', 'Untargeted FGSM', 'Targeted FGSM'))\n",
        "print(t)"
      ],
      "execution_count": 22,
      "outputs": [
        {
          "output_type": "stream",
          "name": "stdout",
          "text": [
            "      Epsilon        Untargeted FGSM    Targeted FGSM  \n",
            "------------------- ----------------- -----------------\n",
            "0.09803921568627451 82.93519259343925 65.59606812207109\n",
            "0.19607843137254902 99.25705794947994 98.45696651045834\n",
            "0.29411764705882354  99.7256829351926  99.7371128128929\n",
            "0.49019607843137253 99.75997256829352 99.80569207909475\n"
          ]
        }
      ]
    },
    {
      "cell_type": "markdown",
      "source": [
        "#Adversial Retraining"
      ],
      "metadata": {
        "id": "9pxAz0cnDfSw"
      }
    },
    {
      "cell_type": "markdown",
      "metadata": {
        "id": "N7eqZYl7Au1G"
      },
      "source": [
        "Building the gradient for training data"
      ]
    },
    {
      "cell_type": "code",
      "metadata": {
        "id": "M8Fb0EBIucdY"
      },
      "source": [
        "image_tensor3 = tf.convert_to_tensor(x_train,dtype=tf.float32)\n",
        "with tf.GradientTape() as tape:\n",
        "    tape.watch(image_tensor3)\n",
        "    output3 = model(image_tensor3)\n",
        "    loss3 = loss_fn(y_train, output3)\n",
        "gradient3 = tape.gradient(loss3, image_tensor3)\n",
        "signed_grad3 = tf.sign(gradient3)"
      ],
      "execution_count": 23,
      "outputs": []
    },
    {
      "cell_type": "markdown",
      "metadata": {
        "id": "KkbwY18pAz15"
      },
      "source": [
        "Conducting the untargeted attack on training data"
      ]
    },
    {
      "cell_type": "code",
      "metadata": {
        "id": "doRABypIliXo"
      },
      "source": [
        "accuracytargeted = np.zeros(shape=(len(epsilon)))\n",
        "adversarial_arraytargettrain = x_train\n",
        "adversarial_labels = y_train\n",
        "adversarial_labels = adversarial_labels.copy()\n",
        "\n",
        "\n",
        "for k in range(len(x_train)):\n",
        "  image = x_train[k]  \n",
        "  adversarial_arraytargettrain[k] = image + signed_grad3[k]*0.49019607843  #125/255\n",
        "  adversarial_arraytargettrain[k] = tf.clip_by_value(adversarial_arraytargettrain[k], 0, 1)\n",
        "  adversarial_labels[k] = y_train[k]"
      ],
      "execution_count": 24,
      "outputs": []
    },
    {
      "cell_type": "code",
      "source": [
        "fashion_mnist = tf.keras.datasets.fashion_mnist\n",
        "\n",
        "(x_train, y_train), (x_test, y_test) = fashion_mnist.load_data()\n",
        "x_train, x_test = x_train / 255.0, x_test / 255.0\n",
        "\n",
        "x_train = np.append(x_train,adversarial_arraytargettrain,axis=0)\n",
        "y_train = np.append(y_train,adversarial_labels,axis=0)\n",
        "\n",
        "new_model = tf.keras.models.Sequential([\n",
        "  tf.keras.layers.Flatten(input_shape=(28, 28)),\n",
        "  tf.keras.layers.Dense(300, activation='relu'),\n",
        "  tf.keras.layers.Dropout(0.2),\n",
        "  tf.keras.layers.Dense(10)\n",
        "])"
      ],
      "metadata": {
        "id": "u9OM7VroGApU"
      },
      "execution_count": 25,
      "outputs": []
    },
    {
      "cell_type": "code",
      "source": [
        "new_model.summary()"
      ],
      "metadata": {
        "id": "PiLnlHm7GMnM",
        "outputId": "ba508407-e2a6-4bfe-9eaa-a95177e2704d",
        "colab": {
          "base_uri": "https://localhost:8080/"
        }
      },
      "execution_count": 26,
      "outputs": [
        {
          "output_type": "stream",
          "name": "stdout",
          "text": [
            "Model: \"sequential_1\"\n",
            "_________________________________________________________________\n",
            " Layer (type)                Output Shape              Param #   \n",
            "=================================================================\n",
            " flatten_1 (Flatten)         (None, 784)               0         \n",
            "                                                                 \n",
            " dense_2 (Dense)             (None, 300)               235500    \n",
            "                                                                 \n",
            " dropout_1 (Dropout)         (None, 300)               0         \n",
            "                                                                 \n",
            " dense_3 (Dense)             (None, 10)                3010      \n",
            "                                                                 \n",
            "=================================================================\n",
            "Total params: 238,510\n",
            "Trainable params: 238,510\n",
            "Non-trainable params: 0\n",
            "_________________________________________________________________\n"
          ]
        }
      ]
    },
    {
      "cell_type": "code",
      "source": [
        "new_loss_fn = tf.keras.losses.SparseCategoricalCrossentropy(from_logits=True)"
      ],
      "metadata": {
        "id": "kz-l_DaEGSwo"
      },
      "execution_count": 27,
      "outputs": []
    },
    {
      "cell_type": "code",
      "source": [
        "new_model.compile(optimizer='adam',\n",
        "              loss=new_loss_fn,\n",
        "              metrics=['accuracy'])"
      ],
      "metadata": {
        "id": "o4Jj_5KrGUmI"
      },
      "execution_count": 28,
      "outputs": []
    },
    {
      "cell_type": "code",
      "source": [
        "new_model.fit(x_train, y_train,\n",
        "          batch_size=32,\n",
        "          epochs=10)"
      ],
      "metadata": {
        "id": "ymZesxCaLDcv",
        "outputId": "a4d0f52a-b229-407e-ff36-247f08563992",
        "colab": {
          "base_uri": "https://localhost:8080/"
        }
      },
      "execution_count": 29,
      "outputs": [
        {
          "output_type": "stream",
          "name": "stdout",
          "text": [
            "Epoch 1/10\n",
            "3750/3750 [==============================] - 17s 4ms/step - loss: 0.2996 - accuracy: 0.8954\n",
            "Epoch 2/10\n",
            "3750/3750 [==============================] - 16s 4ms/step - loss: 0.2132 - accuracy: 0.9226\n",
            "Epoch 3/10\n",
            "3750/3750 [==============================] - 16s 4ms/step - loss: 0.1931 - accuracy: 0.9302\n",
            "Epoch 4/10\n",
            "3750/3750 [==============================] - 16s 4ms/step - loss: 0.1806 - accuracy: 0.9340\n",
            "Epoch 5/10\n",
            "3750/3750 [==============================] - 16s 4ms/step - loss: 0.1726 - accuracy: 0.9369\n",
            "Epoch 6/10\n",
            "3750/3750 [==============================] - 16s 4ms/step - loss: 0.1665 - accuracy: 0.9388\n",
            "Epoch 7/10\n",
            "3750/3750 [==============================] - 16s 4ms/step - loss: 0.1588 - accuracy: 0.9418\n",
            "Epoch 8/10\n",
            "3750/3750 [==============================] - 16s 4ms/step - loss: 0.1548 - accuracy: 0.9425\n",
            "Epoch 9/10\n",
            "3750/3750 [==============================] - 16s 4ms/step - loss: 0.1486 - accuracy: 0.9450\n",
            "Epoch 10/10\n",
            "3750/3750 [==============================] - 16s 4ms/step - loss: 0.1462 - accuracy: 0.9452\n"
          ]
        },
        {
          "output_type": "execute_result",
          "data": {
            "text/plain": [
              "<keras.callbacks.History at 0x7fde184ae790>"
            ]
          },
          "metadata": {},
          "execution_count": 29
        }
      ]
    },
    {
      "cell_type": "markdown",
      "source": [
        "Calculating the training accuracy on the clean test set"
      ],
      "metadata": {
        "id": "zqs9V7mML8J7"
      }
    },
    {
      "cell_type": "code",
      "source": [
        "print(\"Loss,Accuracy of clean images on the Modified DNN:\", new_model.evaluate(x=x_test, y=y_test, verbose=2))"
      ],
      "metadata": {
        "id": "W6J9L0stL50E",
        "outputId": "66a25db5-2456-4f67-d35a-d7cd478a767e",
        "colab": {
          "base_uri": "https://localhost:8080/"
        }
      },
      "execution_count": 30,
      "outputs": [
        {
          "output_type": "stream",
          "name": "stdout",
          "text": [
            "313/313 - 1s - loss: 0.3276 - accuracy: 0.8835 - 805ms/epoch - 3ms/step\n",
            "Loss,Accuracy of clean images on the Modified DNN: [0.32763558626174927, 0.8834999799728394]\n"
          ]
        }
      ]
    },
    {
      "cell_type": "markdown",
      "source": [
        "Running the attack on the clean test set"
      ],
      "metadata": {
        "id": "3Jm5BcI9MDtJ"
      }
    },
    {
      "cell_type": "code",
      "source": [
        "image_tensor4 = tf.convert_to_tensor(x_test,dtype=tf.float32)\n",
        "with tf.GradientTape() as tape:\n",
        "    tape.watch(image_tensor4)\n",
        "    output4 = new_model(image_tensor4)\n",
        "    loss4 = new_loss_fn(y_test, output4)\n",
        "gradient4 = tape.gradient(loss4, image_tensor4)\n",
        "signed_grad4 = tf.sign(gradient4)"
      ],
      "metadata": {
        "id": "SFwQPAZDMFIo"
      },
      "execution_count": 31,
      "outputs": []
    },
    {
      "cell_type": "code",
      "source": [
        "adversarial_arrayRetrain = x_test\n",
        "adversarial_retrainLabel = y_test\n",
        "adversarial_retrainLabel = adversarial_retrainLabel.copy()\n",
        "\n",
        "\n",
        "for i in range(len(epsilon)):\n",
        "  for k in range(len(x_test)):\n",
        "    image = x_test[k]  \n",
        "    adversarial_arrayRetrain[k] = image + signed_grad4[k]*0.4901960784 #125/255\n",
        "    adversarial_arrayRetrain[k] = tf.clip_by_value(adversarial_arrayRetrain[k], 0, 1)\n",
        "    adversarial_retrainLabel[k] = y_test[k]\n",
        "\n",
        "\n",
        "attackacc = 1 - testacc/accuracyrate\n",
        "plt.imshow(adversarial_array[0])\n",
        "plt.show()\n",
        "accuracyuntargeted[i] = attackacc*100\n",
        "print(\"epsilon,accuracy\",new_epsilon[i],attackacc)\n",
        "\n",
        "print(accuracyuntargeted)"
      ],
      "metadata": {
        "id": "sPgX0Am4MHqH",
        "colab": {
          "base_uri": "https://localhost:8080/",
          "height": 300
        },
        "outputId": "cb44c400-6446-4410-f323-b83967d36c21"
      },
      "execution_count": 32,
      "outputs": [
        {
          "output_type": "display_data",
          "data": {
            "text/plain": [
              "<Figure size 432x288 with 1 Axes>"
            ],
            "image/png": "[encoded data removed]"
          },
          "metadata": {
            "needs_background": "light"
          }
        },
        {
          "output_type": "stream",
          "name": "stdout",
          "text": [
            "epsilon,accuracy 0.49019607843137253 0.9980569207909475\n",
            "[82.93519259 99.25705795 99.72568294 99.80569208]\n"
          ]
        }
      ]
    },
    {
      "cell_type": "markdown",
      "source": [
        "Calculating the accuracy on the attacked test set"
      ],
      "metadata": {
        "id": "13jQYwXvMZEJ"
      }
    },
    {
      "cell_type": "code",
      "source": [
        "print(\"Loss,Accuracy of perturbed images on the Modified DNN:\", new_model.evaluate(x=adversarial_arrayRetrain, y=adversarial_retrainLabel, verbose=2))"
      ],
      "metadata": {
        "id": "K6jUUfopMZ5S",
        "outputId": "b029fa0a-5696-4401-86b0-6e86048042e8",
        "colab": {
          "base_uri": "https://localhost:8080/"
        }
      },
      "execution_count": 33,
      "outputs": [
        {
          "output_type": "stream",
          "name": "stdout",
          "text": [
            "313/313 - 1s - loss: 25.3541 - accuracy: 0.3949 - 724ms/epoch - 2ms/step\n",
            "Loss,Accuracy of perturbed images on the Modified DNN: [25.3541259765625, 0.39489999413490295]\n"
          ]
        }
      ]
    },
    {
      "cell_type": "code",
      "source": [
        "adv_predictions = np.argmax(model.predict(adversarial_arrayRetrain), axis=-1)\n",
        "  \n",
        "for l in range(len(y_test)):\n",
        "  if adv_predictions[l] == adversarial_retrainLabel[l]:\n",
        "    accuracy = accuracy+1\n",
        "  else:\n",
        "    accuracy = accuracy+0\n",
        "testacc = accuracy/10000\n",
        "  \n",
        "advattackacc = 1 - testacc/accuracyrate\n",
        "print(\"Prediction of Sample:\",adv_predictions[0],\"Correct Label of Sample:\",adversarial_retrainLabel[0])\n",
        "plt.imshow(adversarial_arrayRetrain[0])\n",
        "plt.show()\n",
        "accuracytargeted[i] = advattackacc*100\n",
        "print(\"epsilon,accuracy\",new_epsilon[i],attackacc)\n",
        "\n",
        "print(accuracytargeted)"
      ],
      "metadata": {
        "colab": {
          "base_uri": "https://localhost:8080/",
          "height": 334
        },
        "id": "mzHAr_ULutRu",
        "outputId": "5ef5f234-0bf2-470a-9387-e797eb7e3cf1"
      },
      "execution_count": 34,
      "outputs": [
        {
          "output_type": "stream",
          "name": "stdout",
          "text": [
            "313/313 [==============================] - 1s 2ms/step\n",
            "Prediction of Sample: 8 Correct Label of Sample: 9\n"
          ]
        },
        {
          "output_type": "display_data",
          "data": {
            "text/plain": [
              "<Figure size 432x288 with 1 Axes>"
            ],
            "image/png": "[encoded data removed]"
          },
          "metadata": {
            "needs_background": "light"
          }
        },
        {
          "output_type": "stream",
          "name": "stdout",
          "text": [
            "epsilon,accuracy 0.49019607843137253 0.9980569207909475\n",
            "[ 0.          0.          0.         93.56497885]\n"
          ]
        }
      ]
    },
    {
      "cell_type": "code",
      "source": [
        "plt.figure(figsize = (10,15))\n",
        "plt.subplot(2, 1, 1)\n",
        "plt.plot(epsilon, accuracyuntargeted, label = \"Untargeted FGSM\")\n",
        "plt.xlabel('Epsilon')\n",
        "plt.ylabel('Accuracy')\n",
        "plt.title('Accuracies of Untargeted FGSM Over Epsilon ')\n",
        "plt.legend()\n",
        "plt.subplot(2, 1, 2)\n",
        "plt.plot(epsilon, accuracytargeted, label = \"Targeted FGSM\")\n",
        "plt.xlabel('Epsilon')\n",
        "plt.ylabel('Accuracy')\n",
        "plt.title('Accuracies of Targeted FGSM Over Epsilon ')\n",
        "plt.legend()\n",
        "plt.show() "
      ],
      "metadata": {
        "colab": {
          "base_uri": "https://localhost:8080/",
          "height": 893
        },
        "id": "bf04OCG0a8Hy",
        "outputId": "38e0419e-901c-4f8e-93f5-ab4c913f805c"
      },
      "execution_count": 47,
      "outputs": [
        {
          "output_type": "display_data",
          "data": {
            "text/plain": [
              "<Figure size 720x1080 with 2 Axes>"
            ],
            "image/png": "[encoded data removed]"
          },
          "metadata": {
            "needs_background": "light"
          }
        }
      ]
    },
    {
      "cell_type": "markdown",
      "source": [
        "#Challenge"
      ],
      "metadata": {
        "id": "pQ3PeYwRVGjO"
      }
    },
    {
      "cell_type": "code",
      "source": [
        "fashion_mnist = tf.keras.datasets.fashion_mnist\n",
        "\n",
        "(x_train_fashion, y_train_fashion), (x_test_fashion, y_test_fashion) = fashion_mnist.load_data()\n",
        "x_train_fashion, x_test_fashion = x_train_fashion / 255.0, x_test_fashion / 255.0"
      ],
      "metadata": {
        "id": "Sj49d1lcVJfI"
      },
      "execution_count": 36,
      "outputs": []
    },
    {
      "cell_type": "code",
      "source": [
        "print(x_train_fashion.shape)\n",
        "print(x_test_fashion.shape)"
      ],
      "metadata": {
        "colab": {
          "base_uri": "https://localhost:8080/"
        },
        "id": "S7mLovdkZitr",
        "outputId": "34ae0e53-fd07-430f-9695-3cd49e9e094c"
      },
      "execution_count": 37,
      "outputs": [
        {
          "output_type": "stream",
          "name": "stdout",
          "text": [
            "(60000, 28, 28)\n",
            "(10000, 28, 28)\n"
          ]
        }
      ]
    },
    {
      "cell_type": "code",
      "source": [
        "figure = plt.figure(figsize=(10,8))\n",
        "cols, rows = 3,3\n",
        "for i in range(1, cols*rows+1):\n",
        "  index = np.random.randint(x_train_fashion.shape[0], size=1)\n",
        "  img, label = (x_train_fashion[index], y_train_fashion[index])\n",
        "  figure.add_subplot(rows, cols, i)\n",
        "  plt.title(\"true label: {}\".format(label))\n",
        "  plt.axis(\"off\")\n",
        "  plt.imshow(img.squeeze(), cmap=\"gray\")\n",
        "plt.show()"
      ],
      "metadata": {
        "colab": {
          "base_uri": "https://localhost:8080/",
          "height": 482
        },
        "id": "gPkwCvFQZmOd",
        "outputId": "4f91b691-000b-4505-e2bd-b2c3bfc6001f"
      },
      "execution_count": 38,
      "outputs": [
        {
          "output_type": "display_data",
          "data": {
            "text/plain": [
              "<Figure size 720x576 with 9 Axes>"
            ],
            "image/png": "[encoded data removed]"
          },
          "metadata": {
            "needs_background": "light"
          }
        }
      ]
    },
    {
      "cell_type": "code",
      "source": [
        "DNN_fashion = tf.keras.models.Sequential([\n",
        "  tf.keras.layers.Flatten(input_shape=(28, 28)),\n",
        "  tf.keras.layers.Dense(300, activation='relu'),\n",
        "  tf.keras.layers.Dense(10)                                 \n",
        "])"
      ],
      "metadata": {
        "id": "yYnXQL_FZrmK"
      },
      "execution_count": 39,
      "outputs": []
    },
    {
      "cell_type": "code",
      "source": [
        "DNN_fashion.compile(optimizer='adam', loss=loss_fn,metrics=['accuracy'])\n",
        "DNN_fashion.fit(x_train_fashion, y_train_fashion, epochs=5)"
      ],
      "metadata": {
        "colab": {
          "base_uri": "https://localhost:8080/"
        },
        "id": "CUGereCZZs9e",
        "outputId": "28d1bc61-a5c9-4048-c89b-ba0c43bc720b"
      },
      "execution_count": 40,
      "outputs": [
        {
          "output_type": "stream",
          "name": "stdout",
          "text": [
            "Epoch 1/5\n",
            "1875/1875 [==============================] - 11s 5ms/step - loss: 0.4839 - accuracy: 0.8275\n",
            "Epoch 2/5\n",
            "1875/1875 [==============================] - 8s 4ms/step - loss: 0.3634 - accuracy: 0.8669\n",
            "Epoch 3/5\n",
            "1875/1875 [==============================] - 8s 4ms/step - loss: 0.3253 - accuracy: 0.8802\n",
            "Epoch 4/5\n",
            "1875/1875 [==============================] - 8s 4ms/step - loss: 0.2996 - accuracy: 0.8894\n",
            "Epoch 5/5\n",
            "1875/1875 [==============================] - 8s 4ms/step - loss: 0.2847 - accuracy: 0.8933\n"
          ]
        },
        {
          "output_type": "execute_result",
          "data": {
            "text/plain": [
              "<keras.callbacks.History at 0x7fde1409acd0>"
            ]
          },
          "metadata": {},
          "execution_count": 40
        }
      ]
    },
    {
      "cell_type": "code",
      "source": [
        "res = DNN_fashion.evaluate(x_test_fashion,  y_test_fashion, verbose=2)\n"
      ],
      "metadata": {
        "colab": {
          "base_uri": "https://localhost:8080/"
        },
        "id": "7hM3ucovZvjM",
        "outputId": "6c3e5e72-f423-4857-fb09-07dad53e726f"
      },
      "execution_count": 41,
      "outputs": [
        {
          "output_type": "stream",
          "name": "stdout",
          "text": [
            "313/313 - 1s - loss: 0.3399 - accuracy: 0.8749 - 847ms/epoch - 3ms/step\n"
          ]
        }
      ]
    },
    {
      "cell_type": "code",
      "source": [
        "def generate_perturb_untarget_im_iter(iteration, model, X, Y, epislon):\n",
        "  x_perturb = [] \n",
        "  x_tensor = tf.convert_to_tensor(X, dtype=tf.float32)\n",
        "  for i in range(iteration):\n",
        "    \n",
        "    with tf.GradientTape() as tape:\n",
        "      tape.watch(x_tensor)\n",
        "      pred = model(x_tensor)\n",
        "      loss = loss_fn(Y, pred)\n",
        "    grad = tape.gradient(loss, x_tensor)\n",
        "    grad_sign = tf.sign(grad)\n",
        "    x_tensor = tf.clip_by_value((x_tensor + epislon * grad_sign), clip_value_min = 0, clip_value_max = 1)\n",
        "  x_perturb.append(x_tensor)\n",
        "  return x_perturb"
      ],
      "metadata": {
        "id": "-6Ep9ns_aFSh"
      },
      "execution_count": 42,
      "outputs": []
    },
    {
      "cell_type": "code",
      "source": [
        "def calRMSE(adv_img, ori_img):\n",
        "  RMSE = []\n",
        "  for i, img in enumerate(adv_img):\n",
        "    rmse = np.sqrt(np.sum((img-ori_img[i])**2)/(28*28))\n",
        "    RMSE.append(rmse)\n",
        "    \n",
        "  return np.sum(RMSE)/len(RMSE)"
      ],
      "metadata": {
        "id": "cFgygVEhaIff"
      },
      "execution_count": 43,
      "outputs": []
    },
    {
      "cell_type": "code",
      "source": [
        "x_perturb_fashion = generate_perturb_untarget_im_iter(5, DNN_fashion, x_test_fashion, y_test_fashion, 1/255)\n"
      ],
      "metadata": {
        "id": "vb9TJp8vaK08"
      },
      "execution_count": 44,
      "outputs": []
    },
    {
      "cell_type": "code",
      "source": [
        "RMSE = calRMSE(x_perturb_fashion[0], x_test_fashion)\n",
        "print(\"The RMSE of original images and perturb images is: {}\".format(RMSE))\n"
      ],
      "metadata": {
        "colab": {
          "base_uri": "https://localhost:8080/"
        },
        "id": "ZHc1CmgSaNU0",
        "outputId": "81b44740-9293-48a2-90f6-895259ed1b7e"
      },
      "execution_count": 45,
      "outputs": [
        {
          "output_type": "stream",
          "name": "stdout",
          "text": [
            "The RMSE of original images and perturb images is: 0.016626010452141203\n"
          ]
        }
      ]
    },
    {
      "cell_type": "code",
      "source": [
        "figure = plt.figure(figsize=(10,8))\n",
        "index = np.random.randint(x_test_fashion.shape[0], size=1)\n",
        "img1, label1 = (x_test_fashion[index], y_test_fashion[index])\n",
        "figure.add_subplot(1, 2, 1)\n",
        "plt.title(\"ori_img\")\n",
        "plt.axis(\"off\")\n",
        "plt.imshow(img1.squeeze(), cmap=\"gray\")\n",
        "img2, label2 = (np.array(x_perturb_fashion[0][index[0]]), y_test_fashion[index])\n",
        "figure.add_subplot(1, 2, 2)\n",
        "plt.title(\"perturb img\")\n",
        "plt.axis(\"off\")\n",
        "plt.imshow(img2.squeeze(), cmap=\"gray\")\n",
        "plt.show()"
      ],
      "metadata": {
        "colab": {
          "base_uri": "https://localhost:8080/",
          "height": 301
        },
        "id": "Mk-yp66WaUdc",
        "outputId": "8ff1c6ee-e8d8-46dd-c3ca-fdd788697eee"
      },
      "execution_count": 46,
      "outputs": [
        {
          "output_type": "display_data",
          "data": {
            "text/plain": [
              "<Figure size 720x576 with 2 Axes>"
            ],
            "image/png": "[encoded data removed]"
          },
          "metadata": {
            "needs_background": "light"
          }
        }
      ]
    },
    {
      "cell_type": "markdown",
      "source": [
        "#References\n",
        "\n",
        "\n",
        "https://colab.research.google.com/github/tensorflow/docs/blob/master/site/en/tutorials/quickstart/beginner.ipynb#scrollTo=h3IKyzTCDNGo\n",
        "\n",
        "https://www.tensorflow.org/tutorials/generative/adversarial_fgsm\n",
        "\n",
        "https://colab.research.google.com/github/tensorflow/docs/blob/master/site/en/tutorials/generative/adversarial_fgsm.ipynb\n",
        "\n",
        "https://medium.com/analytics-vidhya/implementing-adversarial-attacks-and-defenses-in-keras-tensorflow-2-0-cab6120c5715\n",
        "\n",
        "https://github.com/soumyac1999/FGSM-Keras\n",
        "\n",
        "https://github.com/EvolvedSquid/tutorials/blob/master/adversarial-attacks-defenses/adversarial-tutorial.ipynb\n",
        "\n",
        "https://www.w3resource.com/graphics/matplotlib/basic/matplotlib-basic-exercise-5.php"
      ],
      "metadata": {
        "id": "CR2ks4oYbzGv"
      }
    },
    {
      "cell_type": "markdown",
      "source": [],
      "metadata": {
        "id": "tOrwIV8iamwI"
      }
    }
  ],
  "metadata": {
    "colab": {
      "collapsed_sections": [],
      "provenance": []
    },
    "kernelspec": {
      "display_name": "Python 3",
      "name": "python3"
    }
  },
  "nbformat": 4,
  "nbformat_minor": 0
}